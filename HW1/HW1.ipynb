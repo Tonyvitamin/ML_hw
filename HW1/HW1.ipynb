{
 "cells": [
  {
   "cell_type": "code",
   "execution_count": 89,
   "metadata": {},
   "outputs": [],
   "source": [
    "import numpy as np\n",
    "import pandas as pd\n",
    "import matplotlib.pyplot as plt\n"
   ]
  },
  {
   "cell_type": "code",
   "execution_count": 90,
   "metadata": {},
   "outputs": [
    {
     "data": {
      "text/html": [
       "<div>\n",
       "<style scoped>\n",
       "    .dataframe tbody tr th:only-of-type {\n",
       "        vertical-align: middle;\n",
       "    }\n",
       "\n",
       "    .dataframe tbody tr th {\n",
       "        vertical-align: top;\n",
       "    }\n",
       "\n",
       "    .dataframe thead th {\n",
       "        text-align: right;\n",
       "    }\n",
       "</style>\n",
       "<table border=\"1\" class=\"dataframe\">\n",
       "  <thead>\n",
       "    <tr style=\"text-align: right;\">\n",
       "      <th></th>\n",
       "      <th>x</th>\n",
       "      <th>y</th>\n",
       "    </tr>\n",
       "  </thead>\n",
       "  <tbody>\n",
       "    <tr>\n",
       "      <th>0</th>\n",
       "      <td>-5.000000</td>\n",
       "      <td>51.764052</td>\n",
       "    </tr>\n",
       "    <tr>\n",
       "      <th>1</th>\n",
       "      <td>-4.795918</td>\n",
       "      <td>45.423064</td>\n",
       "    </tr>\n",
       "    <tr>\n",
       "      <th>2</th>\n",
       "      <td>-4.591837</td>\n",
       "      <td>41.274448</td>\n",
       "    </tr>\n",
       "    <tr>\n",
       "      <th>3</th>\n",
       "      <td>-3.979592</td>\n",
       "      <td>26.636216</td>\n",
       "    </tr>\n",
       "    <tr>\n",
       "      <th>4</th>\n",
       "      <td>-3.571429</td>\n",
       "      <td>20.256806</td>\n",
       "    </tr>\n",
       "  </tbody>\n",
       "</table>\n",
       "</div>"
      ],
      "text/plain": [
       "          x          y\n",
       "0 -5.000000  51.764052\n",
       "1 -4.795918  45.423064\n",
       "2 -4.591837  41.274448\n",
       "3 -3.979592  26.636216\n",
       "4 -3.571429  20.256806"
      ]
     },
     "execution_count": 90,
     "metadata": {},
     "output_type": "execute_result"
    }
   ],
   "source": [
    "df = pd.read_csv('./testfile.txt', names=['x', 'y'])\n",
    "#df.columns = ['x', 'y']\n",
    "df.head(5)"
   ]
  },
  {
   "cell_type": "code",
   "execution_count": 91,
   "metadata": {},
   "outputs": [],
   "source": [
    "def init_design_matrix(x, n):\n",
    "    row_size = len(x)\n",
    "    col_size = n\n",
    "    design_matrix = np.zeros((row_size, col_size))\n",
    "    for col in range(n):\n",
    "        for row in range(row_size):\n",
    "            design_matrix[row][n-1-col] = x[row] ** col\n",
    "    return design_matrix"
   ]
  },
  {
   "cell_type": "code",
   "execution_count": 92,
   "metadata": {},
   "outputs": [
    {
     "name": "stdout",
     "output_type": "stream",
     "text": [
      "[-5.0, -4.795918367346938, -4.591836734693878, -3.9795918367346936, -3.571428571428571, -2.959183673469388, -2.7551020408163263, -1.7346938775510203, -1.326530612244898, -0.9183673469387754, -0.7142857142857144, -0.3061224489795915, 0.1020408163265305, 0.7142857142857144, 1.122448979591837, 1.7346938775510203, 1.9387755102040811, 2.5510204081632653, 2.9591836734693877, 3.979591836734695, 4.387755102040817, 4.591836734693878, 5.0]\n",
      "[[51.76405235]\n",
      " [45.42306433]\n",
      " [41.2744481 ]\n",
      " [26.6362165 ]\n",
      " [20.25680606]\n",
      " [11.61842924]\n",
      " [10.45052507]\n",
      " [ 1.84809823]\n",
      " [-1.04053496]\n",
      " [-4.6146308 ]\n",
      " [-1.38719773]\n",
      " [-1.9916444 ]\n",
      " [-0.91292461]\n",
      " [ 6.63482003]\n",
      " [ 9.54686746]\n",
      " [15.72016147]\n",
      " [20.62251684]\n",
      " [33.48059726]\n",
      " [40.76391966]\n",
      " [66.89976056]\n",
      " [78.44316466]\n",
      " [86.99156782]\n",
      " [99.78725972]]\n"
     ]
    }
   ],
   "source": [
    "x = df['x'].values.tolist()\n",
    "b = df['y'].values.tolist()\n",
    "b = np.array(b).reshape(-1,1)\n",
    "n = 2\n",
    "Lambda = 0\n",
    "\n",
    "print(x)\n",
    "print(b)"
   ]
  },
  {
   "cell_type": "code",
   "execution_count": 93,
   "metadata": {},
   "outputs": [
    {
     "name": "stdout",
     "output_type": "stream",
     "text": [
      "[[225.22907122  -3.57142857]\n",
      " [ -3.57142857  23.        ]]\n"
     ]
    }
   ],
   "source": [
    "A = init_design_matrix(x, n)\n",
    "#print(A)\n",
    "#print(A.T)\n",
    "target_matrix = np.matmul(A.T, A) + np.eye(n)*Lambda\n",
    "print(target_matrix)"
   ]
  },
  {
   "cell_type": "code",
   "execution_count": 94,
   "metadata": {},
   "outputs": [],
   "source": [
    "#import scipy.linalg as linalg\n",
    "#LU = linalg.lu_factor(target_matrix)\n",
    "#b = np.matmul(A.T, b)\n",
    "#X = linalg.lu_solve(LU, b) \n",
    "#print (\"Solutions:\\n\",X) \n"
   ]
  },
  {
   "cell_type": "code",
   "execution_count": 95,
   "metadata": {},
   "outputs": [],
   "source": [
    "def LU_decomposition(m):\n",
    "    n = len(m)\n",
    "    L = np.eye(n)\n",
    "    U = np.eye(n)\n",
    "    for k in range(n):\n",
    "        U[k][k] = m[k][k]\n",
    "        \n",
    "        for i in range(k+1, n):\n",
    "            L[i][k] = m[i][k] / U[k][k]\n",
    "            U[k][i] = m[k][i]\n",
    "        for i in range(k+1, n):\n",
    "            for j in range(k+1, n):\n",
    "                m[i][j] = m[i][j] - L[i][k]*U[k][j]\n",
    "    return L, U\n"
   ]
  },
  {
   "cell_type": "code",
   "execution_count": 96,
   "metadata": {},
   "outputs": [
    {
     "name": "stdout",
     "output_type": "stream",
     "text": [
      "(array([[ 1.        ,  0.        ],\n",
      "       [-0.01585687,  1.        ]]), array([[225.22907122,  -3.57142857],\n",
      "       [  0.        ,  22.94336831]]))\n",
      "[[225.22907122  -3.57142857]\n",
      " [ -3.57142857  23.        ]]\n"
     ]
    }
   ],
   "source": [
    "L, U = LU_decomposition(target_matrix)\n",
    "print(L, U)\n",
    "print(np.matmul(L, U))\n",
    "#b = np.matmul(A.T, b)\n",
    "#X = np.matmul(test, b)\n",
    "#print (\"Solutions:\\n\",X) \n",
    "\n"
   ]
  },
  {
   "cell_type": "code",
   "execution_count": 97,
   "metadata": {},
   "outputs": [],
   "source": [
    "def tranpose_matrix(m):\n",
    "    row = len(m);\n",
    "    col = len(m[0]);\n",
    "    t = [];\n",
    "    for i in range(col):\n",
    "        t.append([m[j][i] for j in range(row)])\n",
    "        \n",
    "    return t;"
   ]
  },
  {
   "cell_type": "code",
   "execution_count": 98,
   "metadata": {},
   "outputs": [],
   "source": [
    "def inverse_matrix(L, U, rows_size):\n",
    "    b = np.eye(rows_size)\n",
    "    inverse_m = []\n",
    "    for y in b:\n",
    "        x = [0 for _ in range(len(y))]\n",
    "        Ux = []\n",
    "        for i in range(len(y)):\n",
    "            tmp = y[i]\n",
    "            for j in range(i):\n",
    "                tmp = tmp - Ux[j]*L[i][j]\n",
    "            Ux.append(tmp)\n",
    "        for i in reversed(range(len(Ux))):\n",
    "            tmp = Ux[i]\n",
    "            for j in range(len(Ux) - i - 1):\n",
    "                j = j + i + 1\n",
    "                tmp = tmp - x[j]*U[i][j] \n",
    "            x[i] = tmp / U[i][i]\n",
    "        inverse_m.append(x)\n",
    "    inverse_m = np.array(inverse_m)\n",
    "    inverse_m = inverse_m.T\n",
    "    #inverse_m = tranpose_matrix(inverse_m)\n",
    "    return inverse_m;"
   ]
  },
  {
   "cell_type": "code",
   "execution_count": 99,
   "metadata": {},
   "outputs": [
    {
     "name": "stdout",
     "output_type": "stream",
     "text": [
      "[[0.00445088 0.00069113]\n",
      " [0.00069113 0.04358558]]\n"
     ]
    }
   ],
   "source": [
    "inverse_mat = inverse_matrix(L, U, 2)\n",
    "inverse_mat = np.array(inverse_mat)\n",
    "print(inverse_mat)"
   ]
  },
  {
   "cell_type": "code",
   "execution_count": 100,
   "metadata": {},
   "outputs": [
    {
     "name": "stdout",
     "output_type": "stream",
     "text": [
      "('Solutions:\\n', array([[ 4.43295031],\n",
      "       [29.30640471]]))\n"
     ]
    },
    {
     "data": {
      "image/png": "[encoded data removed]",
      "text/plain": [
       "<Figure size 432x288 with 1 Axes>"
      ]
     },
     "metadata": {
      "needs_background": "light"
     },
     "output_type": "display_data"
    }
   ],
   "source": [
    "b = np.matmul(A.T, b)\n",
    "X = np.matmul(inverse_mat, b)\n",
    "print (\"Solutions:\\n\",X) \n",
    "\n",
    "c = np.array(range(-6,6))\n",
    "d = c**1 *X[0] + c**0 * X[1]\n",
    "x = df['x'].values.tolist()\n",
    "b = df['y'].values.tolist()\n",
    "plt.plot(x,b, 'ro')\n",
    "plt.plot(c,d)\n",
    "plt.show()"
   ]
  },
  {
   "cell_type": "code",
   "execution_count": 24,
   "metadata": {},
   "outputs": [],
   "source": [
    "x = df['x'].values.tolist()\n",
    "b = df['y'].values.tolist()\n",
    "b = np.array(b).reshape((-1,1))\n",
    "n = 2\n",
    "Lambda = 0\n",
    "A = init_design_matrix(x, n)\n",
    "#print(A)\n",
    "#print(A.T)"
   ]
  },
  {
   "cell_type": "code",
   "execution_count": 25,
   "metadata": {},
   "outputs": [],
   "source": [
    "def newton(A, b, N):\n",
    "    x_old = np.zeros((N,1))\n",
    "    for _ in range(1):\n",
    "        AT = A.T\n",
    "        hession = np.matmul(2*AT, A)\n",
    "        L, U = LU_decomposition(hession)\n",
    "        derivate = np.matmul(hession, x_old) - np.matmul(2*AT, b)\n",
    "\n",
    "        inverse_hession = inverse_matrix(L, U, 2)\n",
    "\n",
    "        x_gradient = np.matmul(inverse_hession, derivate)\n",
    "        x_new = x_old - x_gradient\n",
    "\n",
    "        \n",
    "        x_old = x_new\n",
    "    \n",
    "    return x_new"
   ]
  },
  {
   "cell_type": "code",
   "execution_count": 26,
   "metadata": {},
   "outputs": [
    {
     "name": "stdout",
     "output_type": "stream",
     "text": [
      "[[ 4.43295031]\n",
      " [29.30640471]]\n"
     ]
    }
   ],
   "source": [
    "X_newton = newton(A, b, n)\n",
    "print(X_newton)"
   ]
  },
  {
   "cell_type": "code",
   "execution_count": null,
   "metadata": {},
   "outputs": [],
   "source": []
  }
 ],
 "metadata": {
  "kernelspec": {
   "display_name": "Python 3",
   "language": "python",
   "name": "python3"
  },
  "language_info": {
   "codemirror_mode": {
    "name": "ipython",
    "version": 2
   },
   "file_extension": ".py",
   "mimetype": "text/x-python",
   "name": "python",
   "nbconvert_exporter": "python",
   "pygments_lexer": "ipython2",
   "version": "2.7.17"
  }
 },
 "nbformat": 4,
 "nbformat_minor": 2
}
